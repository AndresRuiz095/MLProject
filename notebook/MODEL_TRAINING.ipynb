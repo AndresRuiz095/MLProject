{
 "cells": [
  {
   "cell_type": "code",
   "execution_count": 49,
   "id": "be007814",
   "metadata": {},
   "outputs": [],
   "source": [
    "import numpy as np \n",
    "import pandas as pd \n",
    "import matplotlib.pyplot as plt \n",
    "import seaborn as sns \n",
    "\n",
    "#Modeling \n",
    "\n",
    "from sklearn.metrics import mean_squared_error,r2_score\n",
    "from sklearn.neighbors import KNeighborsRegressor\n",
    "from sklearn.tree import DecisionTreeRegressor\n",
    "from sklearn.ensemble import RandomForestRegressor,AdaBoostRegressor\n",
    "from sklearn.svm import SVR\n",
    "from sklearn.linear_model import LinearRegression, Ridge, Lasso \n",
    "from sklearn.metrics import r2_score , mean_absolute_error, mean_squared_error\n",
    "from sklearn.model_selection import train_test_split\n",
    "from sklearn.model_selection import RandomizedSearchCV\n",
    "from catboost import CatBoostRegressor \n",
    "from xgboost import XGBRegressor\n",
    "\n",
    "import warnings\n"
   ]
  },
  {
   "cell_type": "code",
   "execution_count": 50,
   "id": "d8a08919",
   "metadata": {},
   "outputs": [],
   "source": [
    "df = pd.read_csv('data\\stud.csv')"
   ]
  },
  {
   "cell_type": "code",
   "execution_count": 51,
   "id": "7be83b5b",
   "metadata": {},
   "outputs": [
    {
     "data": {
      "text/html": [
       "<div>\n",
       "<style scoped>\n",
       "    .dataframe tbody tr th:only-of-type {\n",
       "        vertical-align: middle;\n",
       "    }\n",
       "\n",
       "    .dataframe tbody tr th {\n",
       "        vertical-align: top;\n",
       "    }\n",
       "\n",
       "    .dataframe thead th {\n",
       "        text-align: right;\n",
       "    }\n",
       "</style>\n",
       "<table border=\"1\" class=\"dataframe\">\n",
       "  <thead>\n",
       "    <tr style=\"text-align: right;\">\n",
       "      <th></th>\n",
       "      <th>gender</th>\n",
       "      <th>race_ethnicity</th>\n",
       "      <th>parental_level_of_education</th>\n",
       "      <th>lunch</th>\n",
       "      <th>test_preparation_course</th>\n",
       "      <th>math_score</th>\n",
       "      <th>reading_score</th>\n",
       "      <th>writing_score</th>\n",
       "    </tr>\n",
       "  </thead>\n",
       "  <tbody>\n",
       "    <tr>\n",
       "      <th>0</th>\n",
       "      <td>female</td>\n",
       "      <td>group B</td>\n",
       "      <td>bachelor's degree</td>\n",
       "      <td>standard</td>\n",
       "      <td>none</td>\n",
       "      <td>72</td>\n",
       "      <td>72</td>\n",
       "      <td>74</td>\n",
       "    </tr>\n",
       "    <tr>\n",
       "      <th>1</th>\n",
       "      <td>female</td>\n",
       "      <td>group C</td>\n",
       "      <td>some college</td>\n",
       "      <td>standard</td>\n",
       "      <td>completed</td>\n",
       "      <td>69</td>\n",
       "      <td>90</td>\n",
       "      <td>88</td>\n",
       "    </tr>\n",
       "    <tr>\n",
       "      <th>2</th>\n",
       "      <td>female</td>\n",
       "      <td>group B</td>\n",
       "      <td>master's degree</td>\n",
       "      <td>standard</td>\n",
       "      <td>none</td>\n",
       "      <td>90</td>\n",
       "      <td>95</td>\n",
       "      <td>93</td>\n",
       "    </tr>\n",
       "    <tr>\n",
       "      <th>3</th>\n",
       "      <td>male</td>\n",
       "      <td>group A</td>\n",
       "      <td>associate's degree</td>\n",
       "      <td>free/reduced</td>\n",
       "      <td>none</td>\n",
       "      <td>47</td>\n",
       "      <td>57</td>\n",
       "      <td>44</td>\n",
       "    </tr>\n",
       "    <tr>\n",
       "      <th>4</th>\n",
       "      <td>male</td>\n",
       "      <td>group C</td>\n",
       "      <td>some college</td>\n",
       "      <td>standard</td>\n",
       "      <td>none</td>\n",
       "      <td>76</td>\n",
       "      <td>78</td>\n",
       "      <td>75</td>\n",
       "    </tr>\n",
       "  </tbody>\n",
       "</table>\n",
       "</div>"
      ],
      "text/plain": [
       "   gender race_ethnicity parental_level_of_education         lunch  \\\n",
       "0  female        group B           bachelor's degree      standard   \n",
       "1  female        group C                some college      standard   \n",
       "2  female        group B             master's degree      standard   \n",
       "3    male        group A          associate's degree  free/reduced   \n",
       "4    male        group C                some college      standard   \n",
       "\n",
       "  test_preparation_course  math_score  reading_score  writing_score  \n",
       "0                    none          72             72             74  \n",
       "1               completed          69             90             88  \n",
       "2                    none          90             95             93  \n",
       "3                    none          47             57             44  \n",
       "4                    none          76             78             75  "
      ]
     },
     "execution_count": 51,
     "metadata": {},
     "output_type": "execute_result"
    }
   ],
   "source": [
    "df.head()"
   ]
  },
  {
   "cell_type": "markdown",
   "id": "5a820001",
   "metadata": {},
   "source": [
    "## Preparing X and Y variables "
   ]
  },
  {
   "cell_type": "code",
   "execution_count": 52,
   "id": "c0dd79f1",
   "metadata": {},
   "outputs": [],
   "source": [
    "X = df.drop(columns=['math_score'], axis=1)\n"
   ]
  },
  {
   "cell_type": "code",
   "execution_count": 53,
   "id": "bc1bf03f",
   "metadata": {},
   "outputs": [],
   "source": [
    "y=df['math_score']"
   ]
  },
  {
   "cell_type": "code",
   "execution_count": 54,
   "id": "4a068ca8",
   "metadata": {},
   "outputs": [
    {
     "data": {
      "text/plain": [
       "0      72\n",
       "1      69\n",
       "2      90\n",
       "3      47\n",
       "4      76\n",
       "       ..\n",
       "995    88\n",
       "996    62\n",
       "997    59\n",
       "998    68\n",
       "999    77\n",
       "Name: math_score, Length: 1000, dtype: int64"
      ]
     },
     "execution_count": 54,
     "metadata": {},
     "output_type": "execute_result"
    }
   ],
   "source": [
    "y"
   ]
  },
  {
   "cell_type": "code",
   "execution_count": 55,
   "id": "38e7f45f",
   "metadata": {},
   "outputs": [],
   "source": [
    "# Create Columns transformer with 3 types of transformers \n",
    "\n",
    "num_features = X.select_dtypes(exclude='object').columns\n",
    "cat_features = X.select_dtypes(include='object').columns\n",
    "\n",
    "from sklearn.preprocessing import OneHotEncoder, StandardScaler \n",
    "from sklearn.compose import ColumnTransformer\n",
    "\n",
    "numeric_transformer = StandardScaler()\n",
    "oh_transformer = OneHotEncoder()\n",
    "\n",
    "preprocessor = ColumnTransformer(\n",
    "[\n",
    "    ('OneHotEncoder',oh_transformer,cat_features),\n",
    "    ('StandardScaler' , numeric_transformer,num_features)\n",
    "]\n",
    ")\n",
    "\n",
    "\n"
   ]
  },
  {
   "cell_type": "code",
   "execution_count": 56,
   "id": "9b5a3475",
   "metadata": {},
   "outputs": [],
   "source": [
    "X = preprocessor.fit_transform(X)"
   ]
  },
  {
   "cell_type": "code",
   "execution_count": 57,
   "id": "0c938859",
   "metadata": {},
   "outputs": [
    {
     "data": {
      "text/plain": [
       "(1000, 19)"
      ]
     },
     "execution_count": 57,
     "metadata": {},
     "output_type": "execute_result"
    }
   ],
   "source": [
    "X.shape"
   ]
  },
  {
   "cell_type": "code",
   "execution_count": 58,
   "id": "b6ab7b26",
   "metadata": {},
   "outputs": [
    {
     "data": {
      "text/plain": [
       "((750, 19), (250, 19))"
      ]
     },
     "execution_count": 58,
     "metadata": {},
     "output_type": "execute_result"
    }
   ],
   "source": [
    "X_train, X_test , y_train, y_test = train_test_split(X , y , test_size=0.25 , random_state=1 )\n",
    "\n",
    "X_train.shape , X_test.shape"
   ]
  },
  {
   "cell_type": "markdown",
   "id": "8282a32b",
   "metadata": {},
   "source": [
    "## Create and Evaluate Function to give all metrics afeter model Training "
   ]
  },
  {
   "cell_type": "code",
   "execution_count": 59,
   "id": "f46142fc",
   "metadata": {},
   "outputs": [],
   "source": [
    "def evaluate_model (true,predicted): \n",
    "    mae = mean_absolute_error(true,predicted)\n",
    "    mse = mean_squared_error(true, predicted)\n",
    "    rmse = np.sqrt(mean_squared_error(true,predicted))\n",
    "    r2_square = r2_score(true,predicted)\n",
    "    return mae,mse,rmse, r2_square\n"
   ]
  },
  {
   "cell_type": "code",
   "execution_count": 60,
   "id": "3c884467",
   "metadata": {},
   "outputs": [],
   "source": [
    "models ={\n",
    "\"Linear Regression\" : LinearRegression(),\n",
    "\"Lasso\" : Lasso(),\n",
    "\"Ridge\" : Ridge(),\n",
    "\"K-Neighbors Regressor\" : KNeighborsRegressor(),\n",
    "\"Decision Tree\" : DecisionTreeRegressor(),\n",
    "\"Random Forest Regressor\" : RandomForestRegressor(),\n",
    "\"XGBRegressor\" : XGBRegressor(),\n",
    "\"CatBoostRegressor\" : CatBoostRegressor(verbose=False),\n",
    "\"AdaBoost Regressor\" : AdaBoostRegressor()\n",
    "}\n"
   ]
  },
  {
   "cell_type": "code",
   "execution_count": null,
   "id": "ac097ff5",
   "metadata": {},
   "outputs": [],
   "source": []
  },
  {
   "cell_type": "code",
   "execution_count": 69,
   "id": "49ab4442",
   "metadata": {},
   "outputs": [
    {
     "name": "stdout",
     "output_type": "stream",
     "text": [
      "Linear Regression\n",
      "Model performanc for Training set\n",
      " - Root Mean Squared Error: 5.4145\n",
      " - Mean Absolute Error: 4.3336\n",
      " - R2 Score: 0.871328\n",
      "------------------------------------------\n",
      "Model performance fot Test set\n",
      " - Root Mean Squared Error: 5.1558\n",
      " - Mean Absolute Error: 4.0613\n",
      " - R2 Score: 0.886704\n",
      "===================================\n",
      "\n",
      "\n",
      "Lasso\n",
      "Model performanc for Training set\n",
      " - Root Mean Squared Error: 6.6400\n",
      " - Mean Absolute Error: 5.2623\n",
      " - R2 Score: 0.806495\n",
      "------------------------------------------\n",
      "Model performance fot Test set\n",
      " - Root Mean Squared Error: 6.3516\n",
      " - Mean Absolute Error: 4.9835\n",
      " - R2 Score: 0.828056\n",
      "===================================\n",
      "\n",
      "\n",
      "Ridge\n",
      "Model performanc for Training set\n",
      " - Root Mean Squared Error: 5.3931\n",
      " - Mean Absolute Error: 4.3137\n",
      " - R2 Score: 0.872346\n",
      "------------------------------------------\n",
      "Model performance fot Test set\n",
      " - Root Mean Squared Error: 5.1508\n",
      " - Mean Absolute Error: 4.0694\n",
      " - R2 Score: 0.886923\n",
      "===================================\n",
      "\n",
      "\n",
      "K-Neighbors Regressor\n",
      "Model performanc for Training set\n",
      " - Root Mean Squared Error: 5.9734\n",
      " - Mean Absolute Error: 4.7357\n",
      " - R2 Score: 0.843394\n",
      "------------------------------------------\n",
      "Model performance fot Test set\n",
      " - Root Mean Squared Error: 6.8063\n",
      " - Mean Absolute Error: 5.4336\n",
      " - R2 Score: 0.802555\n",
      "===================================\n",
      "\n",
      "\n",
      "Decision Tree\n",
      "Model performanc for Training set\n",
      " - Root Mean Squared Error: 0.1390\n",
      " - Mean Absolute Error: 0.0093\n",
      " - R2 Score: 0.999915\n",
      "------------------------------------------\n",
      "Model performance fot Test set\n",
      " - Root Mean Squared Error: 7.7431\n",
      " - Mean Absolute Error: 6.1160\n",
      " - R2 Score: 0.744463\n",
      "===================================\n",
      "\n",
      "\n",
      "Random Forest Regressor\n",
      "Model performanc for Training set\n",
      " - Root Mean Squared Error: 2.3271\n",
      " - Mean Absolute Error: 1.8267\n",
      " - R2 Score: 0.976232\n",
      "------------------------------------------\n",
      "Model performance fot Test set\n",
      " - Root Mean Squared Error: 5.8773\n",
      " - Mean Absolute Error: 4.6804\n",
      " - R2 Score: 0.852776\n",
      "===================================\n",
      "\n",
      "\n",
      "XGBRegressor\n",
      "Model performanc for Training set\n",
      " - Root Mean Squared Error: 0.9706\n",
      " - Mean Absolute Error: 0.6679\n",
      " - R2 Score: 0.995865\n",
      "------------------------------------------\n",
      "Model performance fot Test set\n",
      " - Root Mean Squared Error: 6.1636\n",
      " - Mean Absolute Error: 4.9609\n",
      " - R2 Score: 0.838085\n",
      "===================================\n",
      "\n",
      "\n",
      "CatBoostRegressor\n",
      "Model performanc for Training set\n",
      " - Root Mean Squared Error: 3.0030\n",
      " - Mean Absolute Error: 2.3301\n",
      " - R2 Score: 0.960419\n",
      "------------------------------------------\n",
      "Model performance fot Test set\n",
      " - Root Mean Squared Error: 5.6445\n",
      " - Mean Absolute Error: 4.5468\n",
      " - R2 Score: 0.864210\n",
      "===================================\n",
      "\n",
      "\n",
      "AdaBoost Regressor\n",
      "Model performanc for Training set\n",
      " - Root Mean Squared Error: 5.6995\n",
      " - Mean Absolute Error: 4.6714\n",
      " - R2 Score: 0.857425\n",
      "------------------------------------------\n",
      "Model performance fot Test set\n",
      " - Root Mean Squared Error: 6.0720\n",
      " - Mean Absolute Error: 4.7569\n",
      " - R2 Score: 0.842859\n",
      "===================================\n",
      "\n",
      "\n"
     ]
    }
   ],
   "source": [
    "model_list= []\n",
    "r2_list = []\n",
    "\n",
    "for i in range(len(list(models))):\n",
    "    model = list(models.values())[i]\n",
    "    model.fit(X_train, y_train) # Train model \n",
    "\n",
    "    #Make predictions \n",
    "\n",
    "    y_trian_pred = model.predict(X_train)\n",
    "    y_test_pred = model.predict(X_test)\n",
    "\n",
    "    #Evaluate Train and Test dataet \n",
    "\n",
    "    model_train_mae , model_train_mse ,model_train_rmse , model_train_r2 = evaluate_model(y_train, y_trian_pred)\n",
    "    model_test_mae ,  model_train_mse ,model_test_rmse , model_test_r2 = evaluate_model(y_test , y_test_pred)\n",
    "\n",
    "    print(list(models.keys())[i])\n",
    "    model_list.append(list(models.keys())[i])\n",
    "    r2_list.append(model_test_r2)\n",
    "\n",
    "\n",
    "    print(\"Model performanc for Training set\")\n",
    "    print(\" - Root Mean Squared Error: {:.4f}\".format(model_train_rmse))\n",
    "    print(\" - Mean Absolute Error: {:.4f}\".format(model_train_mae))\n",
    "    print(\" - R2 Score: {:4f}\".format(model_train_r2))\n",
    "\n",
    "    print(\"------------------------------------------\")\n",
    "\n",
    "    print(\"Model performance fot Test set\")\n",
    "    print(\" - Root Mean Squared Error: {:.4f}\".format(model_test_rmse))\n",
    "    print(\" - Mean Absolute Error: {:.4f}\".format(model_test_mae))\n",
    "    print(\" - R2 Score: {:4f}\".format(model_test_r2))\n",
    "\n",
    "    print(\"=\"*35)\n",
    "    print(\"\\n\")\n",
    "\n",
    "\n"
   ]
  },
  {
   "cell_type": "code",
   "execution_count": 71,
   "id": "31270e6f",
   "metadata": {},
   "outputs": [
    {
     "data": {
      "text/html": [
       "<div>\n",
       "<style scoped>\n",
       "    .dataframe tbody tr th:only-of-type {\n",
       "        vertical-align: middle;\n",
       "    }\n",
       "\n",
       "    .dataframe tbody tr th {\n",
       "        vertical-align: top;\n",
       "    }\n",
       "\n",
       "    .dataframe thead th {\n",
       "        text-align: right;\n",
       "    }\n",
       "</style>\n",
       "<table border=\"1\" class=\"dataframe\">\n",
       "  <thead>\n",
       "    <tr style=\"text-align: right;\">\n",
       "      <th></th>\n",
       "      <th>Model Name</th>\n",
       "      <th>R2_Score</th>\n",
       "    </tr>\n",
       "  </thead>\n",
       "  <tbody>\n",
       "    <tr>\n",
       "      <th>2</th>\n",
       "      <td>Ridge</td>\n",
       "      <td>0.886923</td>\n",
       "    </tr>\n",
       "    <tr>\n",
       "      <th>0</th>\n",
       "      <td>Linear Regression</td>\n",
       "      <td>0.886704</td>\n",
       "    </tr>\n",
       "    <tr>\n",
       "      <th>7</th>\n",
       "      <td>CatBoostRegressor</td>\n",
       "      <td>0.864210</td>\n",
       "    </tr>\n",
       "    <tr>\n",
       "      <th>5</th>\n",
       "      <td>Random Forest Regressor</td>\n",
       "      <td>0.852776</td>\n",
       "    </tr>\n",
       "    <tr>\n",
       "      <th>8</th>\n",
       "      <td>AdaBoost Regressor</td>\n",
       "      <td>0.842859</td>\n",
       "    </tr>\n",
       "    <tr>\n",
       "      <th>6</th>\n",
       "      <td>XGBRegressor</td>\n",
       "      <td>0.838085</td>\n",
       "    </tr>\n",
       "    <tr>\n",
       "      <th>1</th>\n",
       "      <td>Lasso</td>\n",
       "      <td>0.828056</td>\n",
       "    </tr>\n",
       "    <tr>\n",
       "      <th>3</th>\n",
       "      <td>K-Neighbors Regressor</td>\n",
       "      <td>0.802555</td>\n",
       "    </tr>\n",
       "    <tr>\n",
       "      <th>4</th>\n",
       "      <td>Decision Tree</td>\n",
       "      <td>0.744463</td>\n",
       "    </tr>\n",
       "  </tbody>\n",
       "</table>\n",
       "</div>"
      ],
      "text/plain": [
       "                Model Name  R2_Score\n",
       "2                    Ridge  0.886923\n",
       "0        Linear Regression  0.886704\n",
       "7        CatBoostRegressor  0.864210\n",
       "5  Random Forest Regressor  0.852776\n",
       "8       AdaBoost Regressor  0.842859\n",
       "6             XGBRegressor  0.838085\n",
       "1                    Lasso  0.828056\n",
       "3    K-Neighbors Regressor  0.802555\n",
       "4            Decision Tree  0.744463"
      ]
     },
     "execution_count": 71,
     "metadata": {},
     "output_type": "execute_result"
    }
   ],
   "source": [
    "pd.DataFrame(list(zip(model_list,r2_list)), columns=[\"Model Name\" , \"R2_Score\"]).sort_values(by = [\"R2_Score\"] , ascending=False)"
   ]
  },
  {
   "cell_type": "markdown",
   "id": "33e1328d",
   "metadata": {},
   "source": [
    "## Linear Regression"
   ]
  },
  {
   "cell_type": "code",
   "execution_count": 72,
   "id": "4ac51b68",
   "metadata": {},
   "outputs": [
    {
     "name": "stdout",
     "output_type": "stream",
     "text": [
      " Accuracy of the model is 88.67\n"
     ]
    }
   ],
   "source": [
    "lin_model = LinearRegression(fit_intercept=True)\n",
    "lin_model = lin_model.fit(X_train,y_train)\n",
    "y_pred = lin_model.predict(X_test)\n",
    "score = r2_score(y_test, y_pred)*100\n",
    "\n",
    "print(\" Accuracy of the model is %.2f\" %score)"
   ]
  },
  {
   "cell_type": "markdown",
   "id": "7e2c81f4",
   "metadata": {},
   "source": [
    "## Plot y_pred and y_test"
   ]
  },
  {
   "cell_type": "code",
   "execution_count": 74,
   "id": "9ba88a57",
   "metadata": {},
   "outputs": [
    {
     "data": {
      "image/png": "[encoded data removed]",
      "text/plain": [
       "<Figure size 640x480 with 1 Axes>"
      ]
     },
     "metadata": {},
     "output_type": "display_data"
    }
   ],
   "source": [
    "plt.scatter(y_test,y_pred);\n",
    "plt.xlabel('Actual');\n",
    "plt.ylabel('Predicted');"
   ]
  },
  {
   "cell_type": "code",
   "execution_count": 75,
   "id": "b4403481",
   "metadata": {},
   "outputs": [
    {
     "data": {
      "text/plain": [
       "<Axes: xlabel='math_score'>"
      ]
     },
     "execution_count": 75,
     "metadata": {},
     "output_type": "execute_result"
    },
    {
     "data": {
      "image/png": "[encoded data removed]",
      "text/plain": [
       "<Figure size 640x480 with 1 Axes>"
      ]
     },
     "metadata": {},
     "output_type": "display_data"
    }
   ],
   "source": [
    "sns.regplot(x=y_test , y=y_pred , ci=None , color='red')"
   ]
  },
  {
   "cell_type": "markdown",
   "id": "adc1ae6c",
   "metadata": {},
   "source": [
    "## Difference between Actual and Predicted Values"
   ]
  },
  {
   "cell_type": "code",
   "execution_count": 76,
   "id": "e6f8be7f",
   "metadata": {},
   "outputs": [
    {
     "data": {
      "text/html": [
       "<div>\n",
       "<style scoped>\n",
       "    .dataframe tbody tr th:only-of-type {\n",
       "        vertical-align: middle;\n",
       "    }\n",
       "\n",
       "    .dataframe tbody tr th {\n",
       "        vertical-align: top;\n",
       "    }\n",
       "\n",
       "    .dataframe thead th {\n",
       "        text-align: right;\n",
       "    }\n",
       "</style>\n",
       "<table border=\"1\" class=\"dataframe\">\n",
       "  <thead>\n",
       "    <tr style=\"text-align: right;\">\n",
       "      <th></th>\n",
       "      <th>Actual Value</th>\n",
       "      <th>Predicted Value</th>\n",
       "      <th>Difference</th>\n",
       "    </tr>\n",
       "  </thead>\n",
       "  <tbody>\n",
       "    <tr>\n",
       "      <th>507</th>\n",
       "      <td>55</td>\n",
       "      <td>59.6875</td>\n",
       "      <td>-4.6875</td>\n",
       "    </tr>\n",
       "    <tr>\n",
       "      <th>818</th>\n",
       "      <td>60</td>\n",
       "      <td>60.0000</td>\n",
       "      <td>0.0000</td>\n",
       "    </tr>\n",
       "    <tr>\n",
       "      <th>452</th>\n",
       "      <td>65</td>\n",
       "      <td>64.0625</td>\n",
       "      <td>0.9375</td>\n",
       "    </tr>\n",
       "    <tr>\n",
       "      <th>368</th>\n",
       "      <td>44</td>\n",
       "      <td>50.4375</td>\n",
       "      <td>-6.4375</td>\n",
       "    </tr>\n",
       "    <tr>\n",
       "      <th>242</th>\n",
       "      <td>56</td>\n",
       "      <td>48.0625</td>\n",
       "      <td>7.9375</td>\n",
       "    </tr>\n",
       "    <tr>\n",
       "      <th>...</th>\n",
       "      <td>...</td>\n",
       "      <td>...</td>\n",
       "      <td>...</td>\n",
       "    </tr>\n",
       "    <tr>\n",
       "      <th>385</th>\n",
       "      <td>67</td>\n",
       "      <td>72.9375</td>\n",
       "      <td>-5.9375</td>\n",
       "    </tr>\n",
       "    <tr>\n",
       "      <th>890</th>\n",
       "      <td>86</td>\n",
       "      <td>82.6250</td>\n",
       "      <td>3.3750</td>\n",
       "    </tr>\n",
       "    <tr>\n",
       "      <th>439</th>\n",
       "      <td>89</td>\n",
       "      <td>85.6875</td>\n",
       "      <td>3.3125</td>\n",
       "    </tr>\n",
       "    <tr>\n",
       "      <th>135</th>\n",
       "      <td>58</td>\n",
       "      <td>56.4375</td>\n",
       "      <td>1.5625</td>\n",
       "    </tr>\n",
       "    <tr>\n",
       "      <th>567</th>\n",
       "      <td>61</td>\n",
       "      <td>59.8750</td>\n",
       "      <td>1.1250</td>\n",
       "    </tr>\n",
       "  </tbody>\n",
       "</table>\n",
       "<p>250 rows × 3 columns</p>\n",
       "</div>"
      ],
      "text/plain": [
       "     Actual Value  Predicted Value  Difference\n",
       "507            55          59.6875     -4.6875\n",
       "818            60          60.0000      0.0000\n",
       "452            65          64.0625      0.9375\n",
       "368            44          50.4375     -6.4375\n",
       "242            56          48.0625      7.9375\n",
       "..            ...              ...         ...\n",
       "385            67          72.9375     -5.9375\n",
       "890            86          82.6250      3.3750\n",
       "439            89          85.6875      3.3125\n",
       "135            58          56.4375      1.5625\n",
       "567            61          59.8750      1.1250\n",
       "\n",
       "[250 rows x 3 columns]"
      ]
     },
     "execution_count": 76,
     "metadata": {},
     "output_type": "execute_result"
    }
   ],
   "source": [
    "pred_df = pd.DataFrame({'Actual Value' : y_test , 'Predicted Value' : y_pred , 'Difference' : y_test - y_pred})\n",
    "pred_df"
   ]
  },
  {
   "cell_type": "code",
   "execution_count": null,
   "id": "afa3c788",
   "metadata": {},
   "outputs": [],
   "source": []
  }
 ],
 "metadata": {
  "kernelspec": {
   "display_name": "Python 3",
   "language": "python",
   "name": "python3"
  },
  "language_info": {
   "codemirror_mode": {
    "name": "ipython",
    "version": 3
   },
   "file_extension": ".py",
   "mimetype": "text/x-python",
   "name": "python",
   "nbconvert_exporter": "python",
   "pygments_lexer": "ipython3",
   "version": "3.8.0"
  }
 },
 "nbformat": 4,
 "nbformat_minor": 5
}
